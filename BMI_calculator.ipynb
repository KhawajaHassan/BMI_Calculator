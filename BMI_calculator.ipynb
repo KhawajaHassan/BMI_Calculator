{
  "nbformat": 4,
  "nbformat_minor": 0,
  "metadata": {
    "colab": {
      "provenance": []
    },
    "kernelspec": {
      "name": "python3",
      "display_name": "Python 3"
    },
    "language_info": {
      "name": "python"
    }
  },
  "cells": [
    {
      "cell_type": "code",
      "execution_count": 1,
      "metadata": {
        "colab": {
          "base_uri": "https://localhost:8080/"
        },
        "id": "9lt_nuIBVb1U",
        "outputId": "2868f6a8-a2ff-4cb5-e064-87b956e7af08"
      },
      "outputs": [
        {
          "output_type": "stream",
          "name": "stdout",
          "text": [
            "Welcome to the BMI Calculator!\n",
            "Enter your weight in kilograms: 86\n",
            "Enter your height in meters: 2\n",
            "\n",
            "Your BMI is: 21.5\n",
            "Based on your BMI, you are classified as: Normal weight\n"
          ]
        }
      ],
      "source": [
        "def calculate_bmi(weight, height):\n",
        "    # Calculate BMI using the formula: BMI = weight / (height ** 2)\n",
        "    bmi = weight / (height ** 2)\n",
        "    return round(bmi, 2)\n",
        "\n",
        "def classify_bmi(bmi):\n",
        "    # Classify the BMI into categories\n",
        "    if bmi < 18.5:\n",
        "        return \"Underweight\"\n",
        "    elif 18.5 <= bmi < 24.9:\n",
        "        return \"Normal weight\"\n",
        "    elif 25 <= bmi < 29.9:\n",
        "        return \"Overweight\"\n",
        "    else:\n",
        "        return \"Obese\"\n",
        "\n",
        "def main():\n",
        "    print(\"Welcome to the BMI Calculator!\")\n",
        "\n",
        "    try:\n",
        "        # Prompt user for weight and height\n",
        "        weight = float(input(\"Enter your weight in kilograms: \"))\n",
        "        height = float(input(\"Enter your height in meters: \"))\n",
        "\n",
        "        if weight <= 0 or height <= 0:\n",
        "            print(\"Weight and height must be positive values. Please try again.\")\n",
        "            return\n",
        "\n",
        "        # Calculate and classify BMI\n",
        "        bmi = calculate_bmi(weight, height)\n",
        "        category = classify_bmi(bmi)\n",
        "\n",
        "        # Display the result\n",
        "        print(f\"\\nYour BMI is: {bmi}\")\n",
        "        print(f\"Based on your BMI, you are classified as: {category}\")\n",
        "\n",
        "    except ValueError:\n",
        "        print(\"Invalid input. Please enter numerical values for weight and height.\")\n",
        "\n",
        "if __name__ == \"__main__\":\n",
        "    main()\n"
      ]
    }
  ]
}